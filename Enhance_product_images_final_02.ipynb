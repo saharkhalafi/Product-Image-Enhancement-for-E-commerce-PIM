{
  "nbformat": 4,
  "nbformat_minor": 0,
  "metadata": {
    "colab": {
      "provenance": []
    },
    "kernelspec": {
      "name": "python3",
      "display_name": "Python 3"
    },
    "language_info": {
      "name": "python"
    }
  },
  "cells": [
    {
      "cell_type": "code",
      "execution_count": 1,
      "metadata": {
        "id": "bKTDGACdNrpf",
        "colab": {
          "base_uri": "https://localhost:8080/"
        },
        "outputId": "a69ceb1b-2b35-4cc4-8d8b-cfdb2a040172"
      },
      "outputs": [
        {
          "output_type": "stream",
          "name": "stdout",
          "text": [
            "Mounted at /content/drive\n"
          ]
        }
      ],
      "source": [
        "from google.colab import drive\n",
        "drive.mount('/content/drive')"
      ]
    },
    {
      "cell_type": "code",
      "source": [
        "pip install Pillow"
      ],
      "metadata": {
        "id": "pEf83X4oN6a7",
        "colab": {
          "base_uri": "https://localhost:8080/"
        },
        "outputId": "e338fedc-351a-4ac9-bc16-c9510a79bbdc"
      },
      "execution_count": 2,
      "outputs": [
        {
          "output_type": "stream",
          "name": "stdout",
          "text": [
            "Requirement already satisfied: Pillow in /usr/local/lib/python3.10/dist-packages (9.4.0)\n"
          ]
        }
      ]
    },
    {
      "cell_type": "code",
      "source": [
        "pip install rembg"
      ],
      "metadata": {
        "id": "1NjJN__rN7fp"
      },
      "execution_count": null,
      "outputs": []
    },
    {
      "cell_type": "markdown",
      "source": [
        "Add border and resize"
      ],
      "metadata": {
        "id": "ZubF9nhlN-_k"
      }
    },
    {
      "cell_type": "code",
      "source": [
        "#add border and resize image\n",
        "from concurrent.futures import ThreadPoolExecutor\n",
        "from rembg import remove\n",
        "from PIL import Image\n",
        "import os\n",
        "\n",
        "def process_image(image_path):\n",
        "    original_image = Image.open(image_path)\n",
        "\n",
        "    target_size = (1920, 2400)\n",
        "\n",
        "    width, height = original_image.size\n",
        "    aspect_ratio = target_size[0] / target_size[1]\n",
        "\n",
        "    if (width / height) > aspect_ratio:\n",
        "        new_width = int(height * aspect_ratio)\n",
        "        left = (width - new_width) // 2\n",
        "        top = 0\n",
        "        right = left + new_width\n",
        "        bottom = height\n",
        "    else:\n",
        "        new_height = int(width / aspect_ratio)\n",
        "        top = (height - new_height) // 2\n",
        "        left = 0\n",
        "        right = width\n",
        "        bottom = top + new_height\n",
        "\n",
        "    object_image = original_image.crop((left, top, right, bottom))\n",
        "\n",
        "    border_size = 50\n",
        "\n",
        "    new_width = object_image.width + 2 * border_size\n",
        "    new_height = object_image.height + 2 * border_size\n",
        "\n",
        "    new_background = Image.new('RGB', (new_width, new_height), white_color)\n",
        "\n",
        "    x_offset = border_size\n",
        "    y_offset = border_size\n",
        "\n",
        "    new_background.paste(object_image, (x_offset, y_offset))\n",
        "\n",
        "    final_image = new_background.resize(target_size, Image.ANTIALIAS)\n",
        "\n",
        "\n",
        "    relative_path = os.path.relpath(image_path, input_folder)\n",
        "\n",
        "\n",
        "    output_subfolder = os.path.dirname(relative_path)\n",
        "    output_folder_path = os.path.join(output_folder, output_subfolder)\n",
        "\n",
        "    os.makedirs(output_folder_path, exist_ok=True)\n",
        "\n",
        "    output_file_path = os.path.join(output_folder_path, os.path.splitext(os.path.basename(image_path))[0] + '.jpg')\n",
        "\n",
        "    final_image.save(output_file_path, 'JPEG')\n",
        "\n",
        "input_folder = '/content/drive/MyDrive/input2/'\n",
        "output_folder = '/content/drive/MyDrive/output22/'\n",
        "os.makedirs(output_folder, exist_ok=True)\n",
        "\n",
        "white_color = (255, 255, 255)\n",
        "\n",
        "image_paths = []\n",
        "\n",
        "for root, dirs, files in os.walk(input_folder):\n",
        "    for filename in files:\n",
        "        if filename.lower().endswith(('.jpg', '.png', '.webp','.jfif','.PNG','.JPG','.WEBP','.JFIF')):\n",
        "            image_path = os.path.join(root, filename)\n",
        "            image_paths.append(image_path)\n",
        "\n",
        "\n",
        "with ThreadPoolExecutor(max_workers=os.cpu_count()) as executor:\n",
        "    executor.map(process_image, image_paths)"
      ],
      "metadata": {
        "id": "wKQT42rNOACi",
        "colab": {
          "base_uri": "https://localhost:8080/"
        },
        "outputId": "4b7fd3f6-e5b5-49fe-c581-24f3a6facbbe"
      },
      "execution_count": 3,
      "outputs": [
        {
          "output_type": "stream",
          "name": "stderr",
          "text": [
            "<ipython-input-3-4c0412b7b315>:42: DeprecationWarning: ANTIALIAS is deprecated and will be removed in Pillow 10 (2023-07-01). Use LANCZOS or Resampling.LANCZOS instead.\n",
            "  final_image = new_background.resize(target_size, Image.ANTIALIAS)\n"
          ]
        }
      ]
    },
    {
      "cell_type": "code",
      "source": [
        "#add border final\n",
        "from concurrent.futures import ThreadPoolExecutor\n",
        "from PIL import Image\n",
        "import os\n",
        "\n",
        "def add_border(image, border_size, border_color):\n",
        "    width, height = image.size\n",
        "    new_width = width + 2 * border_size\n",
        "    new_height = height + 2 * border_size\n",
        "    new_image = Image.new('RGB', (new_width, new_height), border_color)\n",
        "    new_image.paste(image, (border_size, border_size))\n",
        "    return new_image\n",
        "\n",
        "def process_image(image_path):\n",
        "    original_image = Image.open(image_path)\n",
        "\n",
        "    target_size = (1920, 2400)\n",
        "\n",
        "    width, height = original_image.size\n",
        "    aspect_ratio = target_size[0] / target_size[1]\n",
        "\n",
        "    scale_factor = min(target_size[0] / width, target_size[1] / height)\n",
        "\n",
        "    new_width = int(width * scale_factor)\n",
        "    new_height = int(height * scale_factor)\n",
        "\n",
        "    resized_image = original_image.resize((new_width, new_height), Image.ANTIALIAS)\n",
        "\n",
        "    left = (target_size[0] - new_width) // 2\n",
        "    top = (target_size[1] - new_height) // 2\n",
        "    right = left + new_width\n",
        "    bottom = top + new_height\n",
        "\n",
        "    new_background = Image.new('RGB', target_size, (255, 255, 255))\n",
        "\n",
        "    new_background.paste(resized_image, (left, top))\n",
        "\n",
        "    border_size = 50\n",
        "    border_color = (255, 255, 255)\n",
        "\n",
        "    final_image = add_border(new_background, border_size, border_color)\n",
        "\n",
        "\n",
        "    final_image = final_image.resize(target_size, Image.ANTIALIAS)\n",
        "\n",
        "    relative_path = os.path.relpath(image_path, input_folder)\n",
        "    output_subfolder = os.path.dirname(relative_path)\n",
        "    output_folder_path = os.path.join(output_folder, output_subfolder)\n",
        "    os.makedirs(output_folder_path, exist_ok=True)\n",
        "    output_file_path = os.path.join(output_folder_path, os.path.splitext(os.path.basename(image_path))[0] + '.jpg')\n",
        "    final_image.save(output_file_path, 'JPEG')\n",
        "\n",
        "input_folder = '/content/drive/MyDrive/input2/'\n",
        "output_folder = '/content/drive/MyDrive/output22/'\n",
        "os.makedirs(output_folder, exist_ok=True)\n",
        "\n",
        "image_paths = []\n",
        "\n",
        "for root, dirs, files in os.walk(input_folder):\n",
        "    for filename in files:\n",
        "        if filename.lower().endswith(('.jpg', '.png', '.webp', '.jfif', '.PNG', '.JPG', '.WEBP', '.JFIF')):\n",
        "            image_path = os.path.join(root, filename)\n",
        "            image_paths.append(image_path)\n",
        "\n",
        "with ThreadPoolExecutor(max_workers=os.cpu_count()) as executor:\n",
        "    executor.map(process_image, image_paths)"
      ],
      "metadata": {
        "id": "sAgvS84PGLrg",
        "colab": {
          "base_uri": "https://localhost:8080/"
        },
        "outputId": "88bf104d-0dfd-4912-f5b8-6e34dee5d5c8"
      },
      "execution_count": null,
      "outputs": [
        {
          "output_type": "stream",
          "name": "stderr",
          "text": [
            "<ipython-input-12-f3b1f4a0af50>:29: DeprecationWarning: ANTIALIAS is deprecated and will be removed in Pillow 10 (2023-07-01). Use LANCZOS or Resampling.LANCZOS instead.\n",
            "  resized_image = original_image.resize((new_width, new_height), Image.ANTIALIAS)\n",
            "<ipython-input-12-f3b1f4a0af50>:46: DeprecationWarning: ANTIALIAS is deprecated and will be removed in Pillow 10 (2023-07-01). Use LANCZOS or Resampling.LANCZOS instead.\n",
            "  final_image = final_image.resize(target_size, Image.ANTIALIAS)\n"
          ]
        }
      ]
    },
    {
      "cell_type": "code",
      "source": [
        "#OPTIMIZED CODE : put object of image to central of background\n",
        "from concurrent.futures import ThreadPoolExecutor\n",
        "from rembg import remove\n",
        "from PIL import Image\n",
        "from PIL import ImageOps\n",
        "import os\n",
        "\n",
        "def process_image(image_file):\n",
        "    image_path = os.path.join(input_folder, image_file)\n",
        "    original_image = Image.open(image_path)\n",
        "\n",
        "    object_mask = Image.new('L', original_image.size)\n",
        "\n",
        "    for x in range(original_image.width):\n",
        "        for y in range(original_image.height):\n",
        "            pixel = original_image.getpixel((x, y))\n",
        "            if pixel != white_color:\n",
        "                object_mask.putpixel((x, y), 255)\n",
        "            else:\n",
        "                object_mask.putpixel((x, y), 0)\n",
        "\n",
        "    bbox = object_mask.getbbox()\n",
        "\n",
        "    object_image = original_image.crop(bbox)\n",
        "\n",
        "    new_background = Image.new('RGB', (new_width, new_height), white_color)\n",
        "\n",
        "    x_offset = (new_width - object_image.width) // 2\n",
        "    y_offset = (new_height - object_image.height) // 2\n",
        "\n",
        "    new_background.paste(object_image, (x_offset, y_offset))\n",
        "\n",
        "    output_path = os.path.join(output_folder, image_file)\n",
        "    new_background.save(output_path)\n",
        "\n",
        "input_folder = '/content/drive/MyDrive/output22/'\n",
        "output_folder = '/content/drive/MyDrive/output2_processed/'\n",
        "\n",
        "os.makedirs(output_folder, exist_ok=True)\n",
        "\n",
        "new_width = 1920\n",
        "new_height = 2400\n",
        "white_color = (255, 255, 255)\n",
        "\n",
        "image_files = [f for f in os.listdir(input_folder) if f.lower().endswith(('.jpg', '.png'))]\n",
        "\n",
        "# Use a ThreadPoolExecutor to process images in parallel\n",
        "with ThreadPoolExecutor(max_workers=os.cpu_count()) as executor:\n",
        "    executor.map(process_image, image_files)"
      ],
      "metadata": {
        "id": "LGrbQuNtl8pI"
      },
      "execution_count": null,
      "outputs": []
    },
    {
      "cell_type": "markdown",
      "source": [
        "Remove background if object of image not in the corner"
      ],
      "metadata": {
        "id": "Cq5OZhuHOIkR"
      }
    },
    {
      "cell_type": "code",
      "source": [
        "#remove background of images\n",
        "\n",
        "from rembg import remove\n",
        "from PIL import Image\n",
        "from PIL import ImageOps\n",
        "import os\n",
        "\n",
        "input_directory = '/content/drive/MyDrive/output2/'\n",
        "output_directory = '/content/drive/MyDrive/output22/'\n",
        "i=0\n",
        "os.makedirs(output_directory, exist_ok=True)\n",
        "\n",
        "for filename in os.listdir(input_directory):\n",
        "    if filename.lower().endswith(('.jpg', '.png','.webp','.jfif')):\n",
        "        input_path = os.path.join(input_directory, filename)\n",
        "        output_path = os.path.join(output_directory, filename)\n",
        "\n",
        "        input_image = Image.open(input_path)\n",
        "\n",
        "        output = remove(input_image, alpha_matting=True)\n",
        "\n",
        "        background_color = (255, 255, 255)\n",
        "        new_image = Image.new(\"RGB\", output.size, background_color)\n",
        "        new_image.paste(output, (0, 0), output)\n",
        "\n",
        "        new_image.save(output_path, format='png')\n",
        "        i=i+1\n",
        "        print('process image done:',i)\n",
        "\n",
        "print(\"Processing complete\")"
      ],
      "metadata": {
        "id": "9Ws2EAYwOGxx",
        "colab": {
          "base_uri": "https://localhost:8080/"
        },
        "outputId": "169f2970-fc22-42e0-c655-fb965ac9b56b"
      },
      "execution_count": 2,
      "outputs": [
        {
          "output_type": "stream",
          "name": "stdout",
          "text": [
            "process image done: 1\n",
            "Processing complete\n"
          ]
        }
      ]
    },
    {
      "cell_type": "markdown",
      "source": [
        "Remove background if object of image in the corner"
      ],
      "metadata": {
        "id": "-nuf7lLGu440"
      }
    },
    {
      "cell_type": "code",
      "source": [
        "#add border\n",
        "from concurrent.futures import ThreadPoolExecutor\n",
        "from rembg import remove\n",
        "from PIL import Image\n",
        "from PIL import ImageOps\n",
        "import os\n",
        "\n",
        "def process_image(image_path):\n",
        "    original_image = Image.open(image_path)\n",
        "\n",
        "\n",
        "    border_size = 400\n",
        "\n",
        "    new_width = original_image.width + 2 * border_size\n",
        "    new_height = original_image.height + 2 * border_size\n",
        "\n",
        "    new_background = Image.new('RGB', (new_width, new_height), white_color)\n",
        "\n",
        "    x_offset = border_size\n",
        "    y_offset = border_size\n",
        "\n",
        "    new_background.paste(original_image, (x_offset, y_offset))\n",
        "\n",
        "    relative_path = os.path.relpath(image_path, input_folder)\n",
        "\n",
        "\n",
        "    output_subfolder = os.path.dirname(relative_path)\n",
        "    output_folder_path = os.path.join(output_folder, output_subfolder)\n",
        "\n",
        "    os.makedirs(output_folder_path, exist_ok=True)\n",
        "\n",
        "    output_file_path = os.path.join(output_folder_path, os.path.splitext(os.path.basename(image_path))[0] + '.jpg')\n",
        "\n",
        "    new_background.save(output_file_path, 'JPEG')\n",
        "\n",
        "input_folder = '/content/drive/MyDrive/input2/'\n",
        "output_folder = '/content/drive/MyDrive/output2/'\n",
        "os.makedirs(output_folder, exist_ok=True)\n",
        "\n",
        "white_color = (255, 255, 255)\n",
        "\n",
        "image_paths = []\n",
        "\n",
        "for root, dirs, files in os.walk(input_folder):\n",
        "    for filename in files:\n",
        "        if filename.lower().endswith(('.jpg', '.png', '.webp','.jfif','.PNG','.JPG','.WEBP','.JFIF')):\n",
        "            image_path = os.path.join(root, filename)\n",
        "            image_paths.append(image_path)\n",
        "\n",
        "\n",
        "with ThreadPoolExecutor(max_workers=os.cpu_count()) as executor:\n",
        "    executor.map(process_image, image_paths)"
      ],
      "metadata": {
        "id": "v2ay3zD1vJEk"
      },
      "execution_count": null,
      "outputs": []
    },
    {
      "cell_type": "code",
      "source": [
        "#remove background of images\n",
        "\n",
        "from rembg import remove\n",
        "from PIL import Image\n",
        "from PIL import ImageOps\n",
        "import os\n",
        "\n",
        "input_directory = '/content/drive/MyDrive/output2/'\n",
        "output_directory = '/content/drive/MyDrive/output22/'\n",
        "i=0\n",
        "os.makedirs(output_directory, exist_ok=True)\n",
        "\n",
        "for filename in os.listdir(input_directory):\n",
        "    if filename.lower().endswith(('.jpg', '.png','.webp','.jfif')):\n",
        "        input_path = os.path.join(input_directory, filename)\n",
        "        output_path = os.path.join(output_directory, filename)\n",
        "\n",
        "        input_image = Image.open(input_path)\n",
        "\n",
        "        output = remove(input_image, alpha_matting=True)\n",
        "\n",
        "        background_color = (255, 255, 255)\n",
        "        new_image = Image.new(\"RGB\", output.size, background_color)\n",
        "        new_image.paste(output, (0, 0), output)\n",
        "\n",
        "        new_image.save(output_path, format='png')\n",
        "        i=i+1\n",
        "        print('process image done:',i)\n",
        "\n",
        "print(\"Processing complete\")"
      ],
      "metadata": {
        "id": "cOjP9w7jvJIK"
      },
      "execution_count": null,
      "outputs": []
    },
    {
      "cell_type": "code",
      "source": [
        "#remove border and resize after remove background\n",
        "from concurrent.futures import ThreadPoolExecutor\n",
        "from rembg import remove\n",
        "from PIL import Image\n",
        "import os\n",
        "\n",
        "def process_image(image_path):\n",
        "    original_image = Image.open(image_path)\n",
        "\n",
        "    target_size = (1920, 2400)\n",
        "\n",
        "    # Remove the 400-pixel white border\n",
        "    border_size = 400\n",
        "\n",
        "    width, height = original_image.size\n",
        "    left = border_size\n",
        "    top = border_size\n",
        "    right = width - border_size\n",
        "    bottom = height - border_size\n",
        "\n",
        "    object_image = original_image.crop((left, top, right, bottom))\n",
        "\n",
        "    final_image = object_image.resize(target_size, Image.ANTIALIAS)\n",
        "\n",
        "    relative_path = os.path.relpath(image_path, input_folder)\n",
        "    output_subfolder = os.path.dirname(relative_path)\n",
        "    output_folder_path = os.path.join(output_folder, output_subfolder)\n",
        "\n",
        "    os.makedirs(output_folder_path, exist_ok=True)\n",
        "\n",
        "    output_file_path = os.path.join(output_folder_path, os.path.splitext(os.path.basename(image_path))[0] + '.jpg')\n",
        "\n",
        "    final_image.save(output_file_path, 'JPEG')\n",
        "\n",
        "input_folder = '/content/drive/MyDrive/output22/'\n",
        "output_folder = '/content/drive/MyDrive/input2/'\n",
        "os.makedirs(output_folder, exist_ok=True)\n",
        "\n",
        "image_paths = []\n",
        "\n",
        "for root, dirs, files in os.walk(input_folder):\n",
        "    for filename in files:\n",
        "        if filename.lower().endswith(('.jpg', '.png', '.webp','.jfif','.PNG','.JPG','.WEBP','.JFIF')):\n",
        "            image_path = os.path.join(root, filename)\n",
        "            image_paths.append(image_path)\n",
        "\n",
        "with ThreadPoolExecutor(max_workers=os.cpu_count()) as executor:\n",
        "    executor.map(process_image, image_paths)\n"
      ],
      "metadata": {
        "id": "-Vh6fI3ZvJQM"
      },
      "execution_count": null,
      "outputs": []
    },
    {
      "cell_type": "markdown",
      "source": [
        "increase size of object in image"
      ],
      "metadata": {
        "id": "MUxrc8aivbbV"
      }
    },
    {
      "cell_type": "code",
      "source": [
        "#increase size of object in image\n",
        "\n",
        "import cv2\n",
        "import os\n",
        "\n",
        "input_folder = \"/content/drive/MyDrive/output22/\"\n",
        "output_folder = \"/content/drive/MyDrive/output22_processed/\"\n",
        "\n",
        "if not os.path.exists(output_folder):\n",
        "    os.makedirs(output_folder)\n",
        "\n",
        "connectivity = 8\n",
        "\n",
        "for filename in os.listdir(input_folder):\n",
        "    if filename.endswith(\".jpg\"):\n",
        "        image_path = os.path.join(input_folder, filename)\n",
        "\n",
        "        image = cv2.imread(image_path)\n",
        "        gray = cv2.cvtColor(image, cv2.COLOR_BGR2GRAY)\n",
        "        thresh = cv2.threshold(gray, 0, 255, cv2.THRESH_BINARY_INV | cv2.THRESH_OTSU)[1]\n",
        "        output = cv2.connectedComponentsWithStats(thresh, connectivity, cv2.CV_32S)\n",
        "        (numLabels, labels, stats, centroids) = output\n",
        "\n",
        "        for i in range(0, numLabels):\n",
        "            if i == 0:\n",
        "                continue\n",
        "\n",
        "            x = stats[i, cv2.CC_STAT_LEFT]\n",
        "            y = stats[i, cv2.CC_STAT_TOP]\n",
        "            w = stats[i, cv2.CC_STAT_WIDTH]\n",
        "            h = stats[i, cv2.CC_STAT_HEIGHT]\n",
        "\n",
        "            increase_factor = 1.3\n",
        "            new_w = int(w * increase_factor)\n",
        "            new_h = int(h * increase_factor)\n",
        "\n",
        "            resized_object = cv2.resize(image[y:y+h, x:x+w], (new_w, new_h))\n",
        "            x_offset = x + (w - new_w) // 2\n",
        "            y_offset = y + (h - new_h) // 2\n",
        "            image[y_offset:y_offset + new_h, x_offset:x_offset + new_w] = resized_object\n",
        "\n",
        "\n",
        "        output_image_path = os.path.join(output_folder, filename)\n",
        "        cv2.imwrite(output_image_path, image)\n"
      ],
      "metadata": {
        "id": "VC1SCsT1vUfC"
      },
      "execution_count": null,
      "outputs": []
    }
  ]
}