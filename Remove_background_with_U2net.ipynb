{
  "nbformat": 4,
  "nbformat_minor": 0,
  "metadata": {
    "colab": {
      "provenance": []
    },
    "kernelspec": {
      "name": "python3",
      "display_name": "Python 3"
    },
    "language_info": {
      "name": "python"
    }
  },
  "cells": [
    {
      "cell_type": "code",
      "execution_count": null,
      "metadata": {
        "id": "I7I4mwB4BGD2"
      },
      "outputs": [],
      "source": [
        "!git clone https://github.com/xuebinqin/U-2-Net.git\n",
        "!cd U-2-Net\n",
        "!wget https://github.com/xuebinqin/U-2-Net/releases/download/v1.0/u2net.pth"
      ]
    },
    {
      "cell_type": "code",
      "source": [
        "!git clone https://github.com/xuebinqin/U-2-Net.git"
      ],
      "metadata": {
        "id": "62Dl1QZ-BIxo"
      },
      "execution_count": null,
      "outputs": []
    },
    {
      "cell_type": "code",
      "source": [
        "import os\n",
        "import sys\n",
        "import torch\n",
        "import numpy as np\n",
        "from PIL import Image\n",
        "from torchvision import transforms\n",
        "from torch.autograd import Variable\n",
        "\n",
        "sys.path.append('/content/U-2-Net/model')\n",
        "from u2net import U2NET\n",
        "\n",
        "# Load U2-Net model\n",
        "model_dir = '/content/drive/MyDrive/u2net.pth'\n",
        "net = U2NET(3, 1)\n",
        "net.load_state_dict(torch.load(model_dir, map_location='cuda' if torch.cuda.is_available() else 'cpu'))\n",
        "net.eval()\n",
        "\n",
        "input_directory = '/content/drive/MyDrive/input2/'\n",
        "output_directory = '/content/drive/MyDrive/output2/'\n",
        "\n",
        "# Image transformations\n",
        "transform = transforms.Compose([\n",
        "    transforms.Resize((320, 320)),\n",
        "    transforms.ToTensor(),\n",
        "    transforms.Normalize([0.485, 0.456, 0.406], [0.229, 0.224, 0.225])\n",
        "])\n",
        "\n",
        "def remove_background(image_path, output_path):\n",
        "    image = Image.open(image_path).convert('RGB')\n",
        "    transformed_image = transform(image).unsqueeze(0)\n",
        "\n",
        "    # Process image\n",
        "    input_var = Variable(transformed_image)\n",
        "    if torch.cuda.is_available():\n",
        "        input_var = input_var.cuda()\n",
        "        net.cuda()\n",
        "\n",
        "    with torch.no_grad():\n",
        "        d1, _, _, _, _, _, _ = net(input_var)\n",
        "\n",
        "    # Normalize prediction to [0, 1]\n",
        "    pred = d1[:, 0, :, :]\n",
        "    pred = (pred - pred.min()) / (pred.max() - pred.min())\n",
        "    pred_np = pred.squeeze().cpu().data.numpy()\n",
        "\n",
        "    # Convert numpy array to image\n",
        "    mask = Image.fromarray((pred_np * 255).astype(np.uint8))\n",
        "    mask = mask.resize(image.size, resample=Image.BILINEAR)\n",
        "\n",
        "    # Apply mask to the original image\n",
        "    empty_img = Image.new(\"RGBA\", image.size)\n",
        "    output_img = Image.composite(image, empty_img, mask)\n",
        "\n",
        "\n",
        "    output_img.save(output_path, format='PNG')\n",
        "\n",
        "# Iterate through folders and files\n",
        "i = 0\n",
        "for root, dirs, files in os.walk(input_directory):\n",
        "    for filename in files:\n",
        "        if filename.lower().endswith(('.jpg', '.png', '.webp', '.jfif', '.gif')):\n",
        "            input_path = os.path.join(root, filename)\n",
        "            relative_path = os.path.relpath(root, input_directory)\n",
        "            output_folder = os.path.join(output_directory, relative_path)\n",
        "            os.makedirs(output_folder, exist_ok=True)\n",
        "            output_path = os.path.join(output_folder, filename)\n",
        "            remove_background(input_path, output_path)\n",
        "            i += 1\n",
        "            print(f'Image processing: {i} - Saved: {output_path}')\n",
        "\n",
        "print(\"Processing complete\")\n"
      ],
      "metadata": {
        "id": "4NcDb33BBLrv"
      },
      "execution_count": null,
      "outputs": []
    }
  ]
}