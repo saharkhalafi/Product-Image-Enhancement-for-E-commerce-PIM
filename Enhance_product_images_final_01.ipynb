{
  "nbformat": 4,
  "nbformat_minor": 0,
  "metadata": {
    "colab": {
      "provenance": []
    },
    "kernelspec": {
      "name": "python3",
      "display_name": "Python 3"
    },
    "language_info": {
      "name": "python"
    }
  },
  "cells": [
    {
      "cell_type": "code",
      "execution_count": 1,
      "metadata": {
        "id": "bKTDGACdNrpf",
        "colab": {
          "base_uri": "https://localhost:8080/"
        },
        "outputId": "af6c7576-6b29-401e-a797-096ed06332ea"
      },
      "outputs": [
        {
          "output_type": "stream",
          "name": "stdout",
          "text": [
            "Mounted at /content/drive\n"
          ]
        }
      ],
      "source": [
        "from google.colab import drive\n",
        "drive.mount('/content/drive')"
      ]
    },
    {
      "cell_type": "code",
      "source": [
        "pip install Pillow"
      ],
      "metadata": {
        "id": "pEf83X4oN6a7",
        "colab": {
          "base_uri": "https://localhost:8080/"
        },
        "outputId": "e4254f7e-bd31-46f6-aee1-cfe396ca6c33"
      },
      "execution_count": 2,
      "outputs": [
        {
          "output_type": "stream",
          "name": "stdout",
          "text": [
            "Requirement already satisfied: Pillow in /usr/local/lib/python3.10/dist-packages (9.4.0)\n"
          ]
        }
      ]
    },
    {
      "cell_type": "code",
      "source": [
        "pip install rembg"
      ],
      "metadata": {
        "id": "1NjJN__rN7fp",
        "colab": {
          "base_uri": "https://localhost:8080/"
        },
        "outputId": "43a7219f-1233-4c09-92bd-1c8210e9f655"
      },
      "execution_count": 3,
      "outputs": [
        {
          "output_type": "stream",
          "name": "stdout",
          "text": [
            "Collecting rembg\n",
            "  Downloading rembg-2.0.52-py3-none-any.whl (32 kB)\n",
            "Requirement already satisfied: jsonschema in /usr/local/lib/python3.10/dist-packages (from rembg) (4.19.1)\n",
            "Requirement already satisfied: numpy in /usr/local/lib/python3.10/dist-packages (from rembg) (1.23.5)\n",
            "Collecting onnxruntime (from rembg)\n",
            "  Downloading onnxruntime-1.16.1-cp310-cp310-manylinux_2_17_x86_64.manylinux2014_x86_64.whl (6.2 MB)\n",
            "\u001b[2K     \u001b[90m━━━━━━━━━━━━━━━━━━━━━━━━━━━━━━━━━━━━━━━━\u001b[0m \u001b[32m6.2/6.2 MB\u001b[0m \u001b[31m50.5 MB/s\u001b[0m eta \u001b[36m0:00:00\u001b[0m\n",
            "\u001b[?25hRequirement already satisfied: opencv-python-headless in /usr/local/lib/python3.10/dist-packages (from rembg) (4.8.1.78)\n",
            "Requirement already satisfied: pillow in /usr/local/lib/python3.10/dist-packages (from rembg) (9.4.0)\n",
            "Requirement already satisfied: pooch in /usr/local/lib/python3.10/dist-packages (from rembg) (1.8.0)\n",
            "Collecting pymatting (from rembg)\n",
            "  Downloading PyMatting-1.1.10-py3-none-any.whl (52 kB)\n",
            "\u001b[2K     \u001b[90m━━━━━━━━━━━━━━━━━━━━━━━━━━━━━━━━━━━━━━━━\u001b[0m \u001b[32m52.5/52.5 kB\u001b[0m \u001b[31m3.1 MB/s\u001b[0m eta \u001b[36m0:00:00\u001b[0m\n",
            "\u001b[?25hRequirement already satisfied: scikit-image in /usr/local/lib/python3.10/dist-packages (from rembg) (0.19.3)\n",
            "Requirement already satisfied: scipy in /usr/local/lib/python3.10/dist-packages (from rembg) (1.11.3)\n",
            "Requirement already satisfied: tqdm in /usr/local/lib/python3.10/dist-packages (from rembg) (4.66.1)\n",
            "Requirement already satisfied: attrs>=22.2.0 in /usr/local/lib/python3.10/dist-packages (from jsonschema->rembg) (23.1.0)\n",
            "Requirement already satisfied: jsonschema-specifications>=2023.03.6 in /usr/local/lib/python3.10/dist-packages (from jsonschema->rembg) (2023.7.1)\n",
            "Requirement already satisfied: referencing>=0.28.4 in /usr/local/lib/python3.10/dist-packages (from jsonschema->rembg) (0.30.2)\n",
            "Requirement already satisfied: rpds-py>=0.7.1 in /usr/local/lib/python3.10/dist-packages (from jsonschema->rembg) (0.10.6)\n",
            "Collecting coloredlogs (from onnxruntime->rembg)\n",
            "  Downloading coloredlogs-15.0.1-py2.py3-none-any.whl (46 kB)\n",
            "\u001b[2K     \u001b[90m━━━━━━━━━━━━━━━━━━━━━━━━━━━━━━━━━━━━━━━━\u001b[0m \u001b[32m46.0/46.0 kB\u001b[0m \u001b[31m4.8 MB/s\u001b[0m eta \u001b[36m0:00:00\u001b[0m\n",
            "\u001b[?25hRequirement already satisfied: flatbuffers in /usr/local/lib/python3.10/dist-packages (from onnxruntime->rembg) (23.5.26)\n",
            "Requirement already satisfied: packaging in /usr/local/lib/python3.10/dist-packages (from onnxruntime->rembg) (23.2)\n",
            "Requirement already satisfied: protobuf in /usr/local/lib/python3.10/dist-packages (from onnxruntime->rembg) (3.20.3)\n",
            "Requirement already satisfied: sympy in /usr/local/lib/python3.10/dist-packages (from onnxruntime->rembg) (1.12)\n",
            "Requirement already satisfied: platformdirs>=2.5.0 in /usr/local/lib/python3.10/dist-packages (from pooch->rembg) (3.11.0)\n",
            "Requirement already satisfied: requests>=2.19.0 in /usr/local/lib/python3.10/dist-packages (from pooch->rembg) (2.31.0)\n",
            "Requirement already satisfied: numba!=0.49.0 in /usr/local/lib/python3.10/dist-packages (from pymatting->rembg) (0.56.4)\n",
            "Requirement already satisfied: networkx>=2.2 in /usr/local/lib/python3.10/dist-packages (from scikit-image->rembg) (3.2)\n",
            "Requirement already satisfied: imageio>=2.4.1 in /usr/local/lib/python3.10/dist-packages (from scikit-image->rembg) (2.31.6)\n",
            "Requirement already satisfied: tifffile>=2019.7.26 in /usr/local/lib/python3.10/dist-packages (from scikit-image->rembg) (2023.9.26)\n",
            "Requirement already satisfied: PyWavelets>=1.1.1 in /usr/local/lib/python3.10/dist-packages (from scikit-image->rembg) (1.4.1)\n",
            "Requirement already satisfied: llvmlite<0.40,>=0.39.0dev0 in /usr/local/lib/python3.10/dist-packages (from numba!=0.49.0->pymatting->rembg) (0.39.1)\n",
            "Requirement already satisfied: setuptools in /usr/local/lib/python3.10/dist-packages (from numba!=0.49.0->pymatting->rembg) (67.7.2)\n",
            "Requirement already satisfied: charset-normalizer<4,>=2 in /usr/local/lib/python3.10/dist-packages (from requests>=2.19.0->pooch->rembg) (3.3.1)\n",
            "Requirement already satisfied: idna<4,>=2.5 in /usr/local/lib/python3.10/dist-packages (from requests>=2.19.0->pooch->rembg) (3.4)\n",
            "Requirement already satisfied: urllib3<3,>=1.21.1 in /usr/local/lib/python3.10/dist-packages (from requests>=2.19.0->pooch->rembg) (2.0.7)\n",
            "Requirement already satisfied: certifi>=2017.4.17 in /usr/local/lib/python3.10/dist-packages (from requests>=2.19.0->pooch->rembg) (2023.7.22)\n",
            "Collecting humanfriendly>=9.1 (from coloredlogs->onnxruntime->rembg)\n",
            "  Downloading humanfriendly-10.0-py2.py3-none-any.whl (86 kB)\n",
            "\u001b[2K     \u001b[90m━━━━━━━━━━━━━━━━━━━━━━━━━━━━━━━━━━━━━━━━\u001b[0m \u001b[32m86.8/86.8 kB\u001b[0m \u001b[31m9.2 MB/s\u001b[0m eta \u001b[36m0:00:00\u001b[0m\n",
            "\u001b[?25hRequirement already satisfied: mpmath>=0.19 in /usr/local/lib/python3.10/dist-packages (from sympy->onnxruntime->rembg) (1.3.0)\n",
            "Installing collected packages: humanfriendly, pymatting, coloredlogs, onnxruntime, rembg\n",
            "Successfully installed coloredlogs-15.0.1 humanfriendly-10.0 onnxruntime-1.16.1 pymatting-1.1.10 rembg-2.0.52\n"
          ]
        }
      ]
    },
    {
      "cell_type": "markdown",
      "source": [
        "Add border and resize"
      ],
      "metadata": {
        "id": "ZubF9nhlN-_k"
      }
    },
    {
      "cell_type": "code",
      "source": [
        "from concurrent.futures import ThreadPoolExecutor\n",
        "from rembg import remove\n",
        "from PIL import Image\n",
        "from PIL import ImageOps\n",
        "import os\n",
        "\n",
        "def process_image(image_path):\n",
        "    original_image = Image.open(image_path)\n",
        "\n",
        "    target_size = (1920, 2400)\n",
        "\n",
        "    width, height = original_image.size\n",
        "    aspect_ratio = target_size[0] / target_size[1]\n",
        "\n",
        "    if (width / height) > aspect_ratio:\n",
        "        new_width = int(height * aspect_ratio)\n",
        "        left = (width - new_width) // 2\n",
        "        top = 0\n",
        "        right = left + new_width\n",
        "        bottom = height\n",
        "    else:\n",
        "        new_height = int(width / aspect_ratio)\n",
        "        top = (height - new_height) // 2\n",
        "        left = 0\n",
        "        right = width\n",
        "        bottom = top + new_height\n",
        "\n",
        "    object_image = original_image.crop((left, top, right, bottom))\n",
        "\n",
        "    border_size = 50\n",
        "\n",
        "    new_width = object_image.width + 2 * border_size\n",
        "    new_height = object_image.height + 2 * border_size\n",
        "\n",
        "    new_background = Image.new('RGB', (new_width, new_height), white_color)\n",
        "\n",
        "    x_offset = border_size\n",
        "    y_offset = border_size\n",
        "\n",
        "    new_background.paste(object_image, (x_offset, y_offset))\n",
        "\n",
        "    final_image = new_background.resize(target_size, Image.ANTIALIAS)\n",
        "\n",
        "\n",
        "    relative_path = os.path.relpath(image_path, input_folder)\n",
        "\n",
        "\n",
        "    output_subfolder = os.path.dirname(relative_path)\n",
        "    output_folder_path = os.path.join(output_folder, output_subfolder)\n",
        "\n",
        "    os.makedirs(output_folder_path, exist_ok=True)\n",
        "\n",
        "    output_file_path = os.path.join(output_folder_path, os.path.splitext(os.path.basename(image_path))[0] + '.jpg')\n",
        "\n",
        "    final_image.save(output_file_path, 'JPEG')\n",
        "\n",
        "input_folder = '/content/drive/MyDrive/input2/'\n",
        "output_folder = '/content/drive/MyDrive/output22/'\n",
        "os.makedirs(output_folder, exist_ok=True)\n",
        "\n",
        "white_color = (255, 255, 255)\n",
        "\n",
        "image_paths = []\n",
        "\n",
        "for root, dirs, files in os.walk(input_folder):\n",
        "    for filename in files:\n",
        "        if filename.lower().endswith(('.jpg', '.png', '.webp','.jfif','.PNG','.JPG','.WEBP','.JFIF')):\n",
        "            image_path = os.path.join(root, filename)\n",
        "            image_paths.append(image_path)\n",
        "\n",
        "\n",
        "with ThreadPoolExecutor(max_workers=os.cpu_count()) as executor:\n",
        "    executor.map(process_image, image_paths)"
      ],
      "metadata": {
        "id": "wKQT42rNOACi",
        "colab": {
          "base_uri": "https://localhost:8080/"
        },
        "outputId": "b17d17ff-6a02-4617-832f-5b308a5e696e"
      },
      "execution_count": 10,
      "outputs": [
        {
          "output_type": "stream",
          "name": "stderr",
          "text": [
            "<ipython-input-10-4c0412b7b315>:42: DeprecationWarning: ANTIALIAS is deprecated and will be removed in Pillow 10 (2023-07-01). Use LANCZOS or Resampling.LANCZOS instead.\n",
            "  final_image = new_background.resize(target_size, Image.ANTIALIAS)\n"
          ]
        }
      ]
    },
    {
      "cell_type": "code",
      "source": [
        "#add border final\n",
        "from concurrent.futures import ThreadPoolExecutor\n",
        "from PIL import Image\n",
        "import os\n",
        "\n",
        "def add_border(image, border_size, border_color):\n",
        "    width, height = image.size\n",
        "    new_width = width + 2 * border_size\n",
        "    new_height = height + 2 * border_size\n",
        "\n",
        "    new_image = Image.new('RGB', (new_width, new_height), border_color)\n",
        "    new_image.paste(image, (border_size, border_size))\n",
        "\n",
        "    return new_image\n",
        "\n",
        "def process_image(image_path):\n",
        "    original_image = Image.open(image_path)\n",
        "\n",
        "    target_size = (1920, 2400)\n",
        "\n",
        "    width, height = original_image.size\n",
        "    aspect_ratio = target_size[0] / target_size[1]\n",
        "\n",
        "    scale_factor = min(target_size[0] / width, target_size[1] / height)\n",
        "\n",
        "    new_width = int(width * scale_factor)\n",
        "    new_height = int(height * scale_factor)\n",
        "\n",
        "    resized_image = original_image.resize((new_width, new_height), Image.ANTIALIAS)\n",
        "\n",
        "    left = (target_size[0] - new_width) // 2\n",
        "    top = (target_size[1] - new_height) // 2\n",
        "    right = left + new_width\n",
        "    bottom = top + new_height\n",
        "\n",
        "    new_background = Image.new('RGB', target_size, (255, 255, 255))\n",
        "\n",
        "    new_background.paste(resized_image, (left, top))\n",
        "\n",
        "    border_size = 50\n",
        "    border_color = (255, 255, 255)\n",
        "\n",
        "    final_image = add_border(new_background, border_size, border_color)\n",
        "\n",
        "\n",
        "    final_image = final_image.resize(target_size, Image.ANTIALIAS)\n",
        "\n",
        "    relative_path = os.path.relpath(image_path, input_folder)\n",
        "    output_subfolder = os.path.dirname(relative_path)\n",
        "    output_folder_path = os.path.join(output_folder, output_subfolder)\n",
        "    os.makedirs(output_folder_path, exist_ok=True)\n",
        "    output_file_path = os.path.join(output_folder_path, os.path.splitext(os.path.basename(image_path))[0] + '.jpg')\n",
        "    final_image.save(output_file_path, 'JPEG')\n",
        "\n",
        "input_folder = '/content/drive/MyDrive/input2/'\n",
        "output_folder = '/content/drive/MyDrive/output22/'\n",
        "os.makedirs(output_folder, exist_ok=True)\n",
        "\n",
        "image_paths = []\n",
        "\n",
        "for root, dirs, files in os.walk(input_folder):\n",
        "    for filename in files:\n",
        "        if filename.lower().endswith(('.jpg', '.png', '.webp', '.jfif', '.PNG', '.JPG', '.WEBP', '.JFIF')):\n",
        "            image_path = os.path.join(root, filename)\n",
        "            image_paths.append(image_path)\n",
        "\n",
        "with ThreadPoolExecutor(max_workers=os.cpu_count()) as executor:\n",
        "    executor.map(process_image, image_paths)"
      ],
      "metadata": {
        "id": "sAgvS84PGLrg",
        "colab": {
          "base_uri": "https://localhost:8080/"
        },
        "outputId": "88bf104d-0dfd-4912-f5b8-6e34dee5d5c8"
      },
      "execution_count": 12,
      "outputs": [
        {
          "output_type": "stream",
          "name": "stderr",
          "text": [
            "<ipython-input-12-f3b1f4a0af50>:29: DeprecationWarning: ANTIALIAS is deprecated and will be removed in Pillow 10 (2023-07-01). Use LANCZOS or Resampling.LANCZOS instead.\n",
            "  resized_image = original_image.resize((new_width, new_height), Image.ANTIALIAS)\n",
            "<ipython-input-12-f3b1f4a0af50>:46: DeprecationWarning: ANTIALIAS is deprecated and will be removed in Pillow 10 (2023-07-01). Use LANCZOS or Resampling.LANCZOS instead.\n",
            "  final_image = final_image.resize(target_size, Image.ANTIALIAS)\n"
          ]
        }
      ]
    },
    {
      "cell_type": "code",
      "source": [
        "#OPTIMIZED CODE : put object of image to central of background\n",
        "from concurrent.futures import ThreadPoolExecutor\n",
        "from rembg import remove\n",
        "from PIL import Image\n",
        "from PIL import ImageOps\n",
        "import os\n",
        "\n",
        "def process_image(image_file):\n",
        "    image_path = os.path.join(input_folder, image_file)\n",
        "    original_image = Image.open(image_path)\n",
        "\n",
        "    object_mask = Image.new('L', original_image.size)\n",
        "\n",
        "    for x in range(original_image.width):\n",
        "        for y in range(original_image.height):\n",
        "            pixel = original_image.getpixel((x, y))\n",
        "            if pixel != white_color:\n",
        "                object_mask.putpixel((x, y), 255)\n",
        "            else:\n",
        "                object_mask.putpixel((x, y), 0)\n",
        "\n",
        "    bbox = object_mask.getbbox()\n",
        "\n",
        "    object_image = original_image.crop(bbox)\n",
        "\n",
        "    new_background = Image.new('RGB', (new_width, new_height), white_color)\n",
        "\n",
        "    x_offset = (new_width - object_image.width) // 2\n",
        "    y_offset = (new_height - object_image.height) // 2\n",
        "\n",
        "    new_background.paste(object_image, (x_offset, y_offset))\n",
        "\n",
        "    output_path = os.path.join(output_folder, image_file)\n",
        "    new_background.save(output_path)\n",
        "\n",
        "input_folder = '/content/drive/MyDrive/output22/'\n",
        "output_folder = '/content/drive/MyDrive/output2_processed/'\n",
        "\n",
        "os.makedirs(output_folder, exist_ok=True)\n",
        "\n",
        "new_width = 1920\n",
        "new_height = 2400\n",
        "white_color = (255, 255, 255)\n",
        "\n",
        "image_files = [f for f in os.listdir(input_folder) if f.lower().endswith(('.jpg', '.png'))]\n",
        "\n",
        "# Use a ThreadPoolExecutor to process images in parallel\n",
        "with ThreadPoolExecutor(max_workers=os.cpu_count()) as executor:\n",
        "    executor.map(process_image, image_files)\n"
      ],
      "metadata": {
        "id": "LGrbQuNtl8pI"
      },
      "execution_count": 13,
      "outputs": []
    },
    {
      "cell_type": "markdown",
      "source": [
        "Remove background"
      ],
      "metadata": {
        "id": "Cq5OZhuHOIkR"
      }
    },
    {
      "cell_type": "code",
      "source": [
        "#remove background of images\n",
        "\n",
        "from rembg import remove\n",
        "from PIL import Image\n",
        "from PIL import ImageOps\n",
        "import os\n",
        "\n",
        "input_directory = '/content/drive/MyDrive/input2/'\n",
        "output_directory = '/content/drive/MyDrive/output2/'\n",
        "i=0\n",
        "os.makedirs(output_directory, exist_ok=True)\n",
        "\n",
        "for filename in os.listdir(input_directory):\n",
        "    if filename.lower().endswith(('.jpg', '.png','.webp','.jfif')):\n",
        "        input_path = os.path.join(input_directory, filename)\n",
        "        output_path = os.path.join(output_directory, filename)\n",
        "\n",
        "        input_image = Image.open(input_path)\n",
        "\n",
        "        output = remove(input_image, alpha_matting=True)\n",
        "\n",
        "        background_color = (255, 255, 255)\n",
        "        new_image = Image.new(\"RGB\", output.size, background_color)\n",
        "        new_image.paste(output, (0, 0), output)\n",
        "\n",
        "        new_image.save(output_path, format='png')\n",
        "        i=i+1\n",
        "        print('process image done:',i)\n",
        "\n",
        "print(\"Processing complete\")"
      ],
      "metadata": {
        "id": "9Ws2EAYwOGxx",
        "colab": {
          "base_uri": "https://localhost:8080/"
        },
        "outputId": "80989c90-0383-4b91-feb1-7a79f640b911"
      },
      "execution_count": 4,
      "outputs": [
        {
          "output_type": "stream",
          "name": "stderr",
          "text": [
            "Downloading data from 'https://github.com/danielgatis/rembg/releases/download/v0.0.0/u2net.onnx' to file '/root/.u2net/u2net.onnx'.\n",
            "100%|███████████████████████████████████████| 176M/176M [00:00<00:00, 32.2GB/s]\n"
          ]
        },
        {
          "output_type": "stream",
          "name": "stdout",
          "text": [
            "process image done: 1\n",
            "process image done: 2\n",
            "Processing complete\n"
          ]
        }
      ]
    },
    {
      "cell_type": "markdown",
      "source": [
        "increase size of object in image"
      ],
      "metadata": {
        "id": "3IPdVxErOMiQ"
      }
    },
    {
      "cell_type": "code",
      "source": [
        "#increase size of object in image\n",
        "\n",
        "import cv2\n",
        "import os\n",
        "\n",
        "input_folder = \"/content/drive/MyDrive/output22/\"\n",
        "output_folder = \"/content/drive/MyDrive/output22_processed/\"\n",
        "\n",
        "if not os.path.exists(output_folder):\n",
        "    os.makedirs(output_folder)\n",
        "\n",
        "connectivity = 8\n",
        "\n",
        "for filename in os.listdir(input_folder):\n",
        "    if filename.endswith(\".jpg\"):\n",
        "        image_path = os.path.join(input_folder, filename)\n",
        "\n",
        "        image = cv2.imread(image_path)\n",
        "        gray = cv2.cvtColor(image, cv2.COLOR_BGR2GRAY)\n",
        "        thresh = cv2.threshold(gray, 0, 255, cv2.THRESH_BINARY_INV | cv2.THRESH_OTSU)[1]\n",
        "        output = cv2.connectedComponentsWithStats(thresh, connectivity, cv2.CV_32S)\n",
        "        (numLabels, labels, stats, centroids) = output\n",
        "\n",
        "        for i in range(0, numLabels):\n",
        "            if i == 0:\n",
        "                continue\n",
        "\n",
        "            x = stats[i, cv2.CC_STAT_LEFT]\n",
        "            y = stats[i, cv2.CC_STAT_TOP]\n",
        "            w = stats[i, cv2.CC_STAT_WIDTH]\n",
        "            h = stats[i, cv2.CC_STAT_HEIGHT]\n",
        "\n",
        "            increase_factor = 1.3\n",
        "            new_w = int(w * increase_factor)\n",
        "            new_h = int(h * increase_factor)\n",
        "\n",
        "            resized_object = cv2.resize(image[y:y+h, x:x+w], (new_w, new_h))\n",
        "            x_offset = x + (w - new_w) // 2\n",
        "            y_offset = y + (h - new_h) // 2\n",
        "            image[y_offset:y_offset + new_h, x_offset:x_offset + new_w] = resized_object\n",
        "\n",
        "\n",
        "        output_image_path = os.path.join(output_folder, filename)\n",
        "        cv2.imwrite(output_image_path, image)\n"
      ],
      "metadata": {
        "id": "_fSw1wS3ONQI"
      },
      "execution_count": null,
      "outputs": []
    }
  ]
}