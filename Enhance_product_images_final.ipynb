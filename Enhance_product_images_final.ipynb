{
  "nbformat": 4,
  "nbformat_minor": 0,
  "metadata": {
    "colab": {
      "provenance": []
    },
    "kernelspec": {
      "name": "python3",
      "display_name": "Python 3"
    },
    "language_info": {
      "name": "python"
    }
  },
  "cells": [
    {
      "cell_type": "code",
      "execution_count": null,
      "metadata": {
        "id": "bKTDGACdNrpf"
      },
      "outputs": [],
      "source": [
        "from google.colab import drive\n",
        "drive.mount('/content/drive')"
      ]
    },
    {
      "cell_type": "code",
      "source": [
        "pip install Pillow"
      ],
      "metadata": {
        "id": "pEf83X4oN6a7"
      },
      "execution_count": null,
      "outputs": []
    },
    {
      "cell_type": "code",
      "source": [
        "pip install rembg"
      ],
      "metadata": {
        "id": "1NjJN__rN7fp"
      },
      "execution_count": null,
      "outputs": []
    },
    {
      "cell_type": "markdown",
      "source": [
        "Add border and resize"
      ],
      "metadata": {
        "id": "ZubF9nhlN-_k"
      }
    },
    {
      "cell_type": "code",
      "source": [
        "from concurrent.futures import ThreadPoolExecutor\n",
        "from rembg import remove\n",
        "from PIL import Image\n",
        "from PIL import ImageOps\n",
        "import os\n",
        "\n",
        "def process_image(image_path):\n",
        "    original_image = Image.open(image_path)\n",
        "\n",
        "    target_size = (1920, 2400)\n",
        "\n",
        "    width, height = original_image.size\n",
        "    aspect_ratio = target_size[0] / target_size[1]\n",
        "\n",
        "    if (width / height) > aspect_ratio:\n",
        "        new_width = int(height * aspect_ratio)\n",
        "        left = (width - new_width) // 2\n",
        "        top = 0\n",
        "        right = left + new_width\n",
        "        bottom = height\n",
        "    else:\n",
        "        new_height = int(width / aspect_ratio)\n",
        "        top = (height - new_height) // 2\n",
        "        left = 0\n",
        "        right = width\n",
        "        bottom = top + new_height\n",
        "\n",
        "    object_image = original_image.crop((left, top, right, bottom))\n",
        "\n",
        "    border_size = 20\n",
        "\n",
        "    new_width = object_image.width + 2 * border_size\n",
        "    new_height = object_image.height + 2 * border_size\n",
        "\n",
        "    new_background = Image.new('RGB', (new_width, new_height), white_color)\n",
        "\n",
        "    x_offset = border_size\n",
        "    y_offset = border_size\n",
        "\n",
        "    new_background.paste(object_image, (x_offset, y_offset))\n",
        "\n",
        "    final_image = new_background.resize(target_size, Image.ANTIALIAS)\n",
        "\n",
        "\n",
        "    relative_path = os.path.relpath(image_path, input_folder)\n",
        "\n",
        "\n",
        "    output_subfolder = os.path.dirname(relative_path)\n",
        "    output_folder_path = os.path.join(output_folder, output_subfolder)\n",
        "\n",
        "    os.makedirs(output_folder_path, exist_ok=True)\n",
        "\n",
        "    output_file_path = os.path.join(output_folder_path, os.path.splitext(os.path.basename(image_path))[0] + '.jpg')\n",
        "\n",
        "    final_image.save(output_file_path, 'JPEG')\n",
        "\n",
        "input_folder = '/content/drive/MyDrive/input2/'\n",
        "output_folder = '/content/drive/MyDrive/output22/'\n",
        "os.makedirs(output_folder, exist_ok=True)\n",
        "\n",
        "white_color = (255, 255, 255)\n",
        "\n",
        "image_paths = []\n",
        "\n",
        "for root, dirs, files in os.walk(input_folder):\n",
        "    for filename in files:\n",
        "        if filename.lower().endswith(('.jpg', '.png', '.webp','.jfif','.PNG','.JPG','.WEBP','.JFIF')):\n",
        "            image_path = os.path.join(root, filename)\n",
        "            image_paths.append(image_path)\n",
        "\n",
        "\n",
        "with ThreadPoolExecutor(max_workers=os.cpu_count()) as executor:\n",
        "    executor.map(process_image, image_paths)"
      ],
      "metadata": {
        "id": "wKQT42rNOACi"
      },
      "execution_count": null,
      "outputs": []
    },
    {
      "cell_type": "code",
      "source": [
        "#only resize\n",
        "from concurrent.futures import ThreadPoolExecutor\n",
        "from PIL import Image\n",
        "import os\n",
        "\n",
        "def process_image(image_path):\n",
        "    original_image = Image.open(image_path)\n",
        "\n",
        "    target_size = (1920, 2400)\n",
        "\n",
        "    final_image = original_image.resize(target_size, Image.ANTIALIAS)\n",
        "\n",
        "    relative_path = os.path.relpath(image_path, input_folder)\n",
        "\n",
        "    output_subfolder = os.path.dirname(relative_path)\n",
        "    output_folder_path = os.path.join(output_folder, output_subfolder)\n",
        "\n",
        "    os.makedirs(output_folder_path, exist_ok=True)\n",
        "\n",
        "\n",
        "    output_file_path = os.path.join(output_folder_path, os.path.splitext(os.path.basename(image_path))[0] + '.jpg')\n",
        "\n",
        "    final_image.save(output_file_path, 'JPEG')\n",
        "\n",
        "input_folder = '/content/drive/MyDrive/input2/'\n",
        "output_folder = '/content/drive/MyDrive/output22/'\n",
        "os.makedirs(output_folder, exist_ok=True)\n",
        "\n",
        "image_paths = []\n",
        "\n",
        "for root, dirs, files in os.walk(input_folder):\n",
        "    for filename in files:\n",
        "        if filename.lower().endswith(('.jpg', '.png', '.webp', '.jfif', '.PNG', '.JPG', '.WEBP', '.JFIF')):\n",
        "            image_path = os.path.join(root, filename)\n",
        "            image_paths.append(image_path)\n",
        "\n",
        "# Use a ThreadPoolExecutor to process images in parallel\n",
        "with ThreadPoolExecutor(max_workers=os.cpu_count()) as executor:\n",
        "    executor.map(process_image, image_paths)\n",
        "\n"
      ],
      "metadata": {
        "id": "tHq1iVVkOC3a"
      },
      "execution_count": null,
      "outputs": []
    },
    {
      "cell_type": "markdown",
      "source": [
        "Remove background"
      ],
      "metadata": {
        "id": "Cq5OZhuHOIkR"
      }
    },
    {
      "cell_type": "code",
      "source": [
        "#remove background of images\n",
        "\n",
        "from rembg import remove\n",
        "from PIL import Image\n",
        "from PIL import ImageOps\n",
        "import os\n",
        "\n",
        "input_directory = '/content/drive/MyDrive/input2/'\n",
        "output_directory = '/content/drive/MyDrive/output22/'\n",
        "\n",
        "\n",
        "os.makedirs(output_directory, exist_ok=True)\n",
        "\n",
        "for filename in os.listdir(input_directory):\n",
        "    if filename.lower().endswith(('.jpg', '.png','.webp','.jfif')):\n",
        "        input_path = os.path.join(input_directory, filename)\n",
        "        output_path = os.path.join(output_directory, filename)\n",
        "\n",
        "        input_image = Image.open(input_path)\n",
        "\n",
        "        output = remove(input_image, alpha_matting=True)\n",
        "\n",
        "        background_color = (255, 255, 255)\n",
        "        new_image = Image.new(\"RGB\", output.size, background_color)\n",
        "        new_image.paste(output, (0, 0), output)\n",
        "\n",
        "        new_image.save(output_path, format='png')\n",
        "\n",
        "print(\"Processing complete\")"
      ],
      "metadata": {
        "id": "9Ws2EAYwOGxx"
      },
      "execution_count": null,
      "outputs": []
    },
    {
      "cell_type": "markdown",
      "source": [
        "increase size of object in image"
      ],
      "metadata": {
        "id": "3IPdVxErOMiQ"
      }
    },
    {
      "cell_type": "code",
      "source": [
        "#increase size of object in image\n",
        "\n",
        "import cv2\n",
        "import os\n",
        "\n",
        "input_folder = \"/content/drive/MyDrive/output22/\"\n",
        "output_folder = \"/content/drive/MyDrive/output22_processed/\"\n",
        "\n",
        "if not os.path.exists(output_folder):\n",
        "    os.makedirs(output_folder)\n",
        "\n",
        "connectivity = 8\n",
        "\n",
        "for filename in os.listdir(input_folder):\n",
        "    if filename.endswith(\".jpg\"):\n",
        "        image_path = os.path.join(input_folder, filename)\n",
        "\n",
        "        image = cv2.imread(image_path)\n",
        "        gray = cv2.cvtColor(image, cv2.COLOR_BGR2GRAY)\n",
        "        thresh = cv2.threshold(gray, 0, 255, cv2.THRESH_BINARY_INV | cv2.THRESH_OTSU)[1]\n",
        "        output = cv2.connectedComponentsWithStats(thresh, connectivity, cv2.CV_32S)\n",
        "        (numLabels, labels, stats, centroids) = output\n",
        "\n",
        "        for i in range(0, numLabels):\n",
        "            if i == 0:\n",
        "                continue\n",
        "\n",
        "            x = stats[i, cv2.CC_STAT_LEFT]\n",
        "            y = stats[i, cv2.CC_STAT_TOP]\n",
        "            w = stats[i, cv2.CC_STAT_WIDTH]\n",
        "            h = stats[i, cv2.CC_STAT_HEIGHT]\n",
        "\n",
        "            increase_factor = 1.3\n",
        "            new_w = int(w * increase_factor)\n",
        "            new_h = int(h * increase_factor)\n",
        "\n",
        "            resized_object = cv2.resize(image[y:y+h, x:x+w], (new_w, new_h))\n",
        "            x_offset = x + (w - new_w) // 2\n",
        "            y_offset = y + (h - new_h) // 2\n",
        "            image[y_offset:y_offset + new_h, x_offset:x_offset + new_w] = resized_object\n",
        "\n",
        "\n",
        "        output_image_path = os.path.join(output_folder, filename)\n",
        "        cv2.imwrite(output_image_path, image)\n"
      ],
      "metadata": {
        "id": "_fSw1wS3ONQI"
      },
      "execution_count": null,
      "outputs": []
    }
  ]
}