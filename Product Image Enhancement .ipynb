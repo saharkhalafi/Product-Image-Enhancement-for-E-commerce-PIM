{
  "nbformat": 4,
  "nbformat_minor": 0,
  "metadata": {
    "colab": {
      "provenance": []
    },
    "kernelspec": {
      "name": "python3",
      "display_name": "Python 3"
    },
    "language_info": {
      "name": "python"
    }
  },
  "cells": [
    {
      "cell_type": "code",
      "source": [
        "from google.colab import drive\n",
        "drive.mount('/content/drive')"
      ],
      "metadata": {
        "colab": {
          "base_uri": "https://localhost:8080/"
        },
        "id": "zkhborexMXeX",
        "outputId": "be0d690b-b100-4396-eca3-2c01f7ea00fe"
      },
      "execution_count": null,
      "outputs": [
        {
          "output_type": "stream",
          "name": "stdout",
          "text": [
            "Mounted at /content/drive\n"
          ]
        }
      ]
    },
    {
      "cell_type": "code",
      "source": [
        "pip install Pillow"
      ],
      "metadata": {
        "colab": {
          "base_uri": "https://localhost:8080/"
        },
        "id": "WH1vj0C4V3f8",
        "outputId": "ba0defb4-0190-4a62-9b5f-df49c06e80cb"
      },
      "execution_count": null,
      "outputs": [
        {
          "output_type": "stream",
          "name": "stdout",
          "text": [
            "Requirement already satisfied: Pillow in /usr/local/lib/python3.10/dist-packages (9.4.0)\n"
          ]
        }
      ]
    },
    {
      "cell_type": "code",
      "source": [
        "pip install rembg"
      ],
      "metadata": {
        "id": "zpGFyU6fV5t8"
      },
      "execution_count": null,
      "outputs": []
    },
    {
      "cell_type": "markdown",
      "source": [
        "Remove background"
      ],
      "metadata": {
        "id": "8gHTqzfjhlUd"
      }
    },
    {
      "cell_type": "code",
      "source": [
        "from rembg import remove\n",
        "from PIL import Image\n",
        "from PIL import ImageOps\n",
        "import os\n",
        "\n",
        "input_directory = '/content/drive/MyDrive/input2/'\n",
        "output_directory = '/content/drive/MyDrive/outputimages/'\n",
        "\n",
        "\n",
        "os.makedirs(output_directory, exist_ok=True)\n",
        "\n",
        "for filename in os.listdir(input_directory):\n",
        "    if filename.endswith(\".PNG\") or filename.endswith(\".jpg\") or filename.endswith(\".png\"):\n",
        "        input_path = os.path.join(input_directory, filename)\n",
        "        output_path = os.path.join(output_directory, filename)\n",
        "\n",
        "        input_image = Image.open(input_path)\n",
        "\n",
        "        output = remove(input_image, alpha_matting=True)\n",
        "\n",
        "        background_color = (255, 255, 255)\n",
        "        new_image = Image.new(\"RGB\", output.size, background_color)\n",
        "        new_image.paste(output, (0, 0), output)\n",
        "        new_image.save(output_path, format='PNG')\n",
        "\n",
        "print(\"Processing complete\")"
      ],
      "metadata": {
        "id": "uQhGmuvGiLhS"
      },
      "execution_count": null,
      "outputs": []
    },
    {
      "cell_type": "markdown",
      "source": [
        "Add border and resize"
      ],
      "metadata": {
        "id": "h0ajXCYxf5Q7"
      }
    },
    {
      "cell_type": "code",
      "source": [
        "import os\n",
        "from PIL import Image\n",
        "\n",
        "input_folder = '/content/drive/MyDrive/outputimages/'\n",
        "output_folder = '/content/drive/MyDrive/output2/'\n",
        "\n",
        "min_padding = 70\n",
        "target_size = (1920, 2400)\n",
        "i=0\n",
        "\n",
        "image_paths = []\n",
        "for root, dirs, files in os.walk(input_folder):\n",
        "    for filename in files:\n",
        "        if filename.lower().endswith(('.jpg', '.png')):\n",
        "            image_path = os.path.join(root, filename)\n",
        "            image_paths.append(image_path)\n",
        "\n",
        "for image_path in image_paths:\n",
        "    image = Image.open(image_path)\n",
        "\n",
        "\n",
        "    left_distance = 0\n",
        "    top_distance = 0\n",
        "    right_distance = 0\n",
        "    bottom_distance = 0\n",
        "\n",
        "    for x in range(image.width):\n",
        "        if all(image.getpixel((x, y)) == (255, 255, 255) for y in range(image.height)):\n",
        "            left_distance += 1\n",
        "        else:\n",
        "            break\n",
        "\n",
        "    for x in range(image.width - 1, -1, -1):\n",
        "        if all(image.getpixel((x, y)) == (255, 255, 255) for y in range(image.height)):\n",
        "            right_distance += 1\n",
        "        else:\n",
        "            break\n",
        "\n",
        "    for y in range(image.height):\n",
        "        if all(image.getpixel((x, y)) == (255, 255, 255) for x in range(image.width)):\n",
        "            top_distance += 1\n",
        "        else:\n",
        "            break\n",
        "\n",
        "    for y in range(image.height - 1, -1, -1):\n",
        "        if all(image.getpixel((x, y)) == (255, 255, 255) for x in range(image.width)):\n",
        "            bottom_distance += 1\n",
        "        else:\n",
        "            break\n",
        "\n",
        "    padding_x = max(min_padding - left_distance, 0) + max(min_padding - right_distance, 0)\n",
        "    padding_y = max(min_padding - top_distance, 0) + max(min_padding - bottom_distance, 0)\n",
        "\n",
        "    new_width = image.width + padding_x\n",
        "    new_height = image.height + padding_y\n",
        "\n",
        "    new_image = Image.new(\"RGB\", (new_width, new_height), (255, 255, 255))\n",
        "\n",
        "    paste_x = max(min_padding - left_distance, 0)\n",
        "    paste_y = max(min_padding - top_distance, 0)\n",
        "    new_image.paste(image, (paste_x, paste_y))\n",
        "\n",
        "    new_image = new_image.resize(target_size, Image.ANTIALIAS)\n",
        "\n",
        "\n",
        "    relative_path = os.path.relpath(image_path, input_folder)\n",
        "    output_path = os.path.join(output_folder, relative_path)\n",
        "\n",
        "\n",
        "    os.makedirs(os.path.dirname(output_path), exist_ok=True)\n",
        "\n",
        "    new_image.save(output_path)\n",
        "    i=i+1\n",
        "    print(\"Completion of image processing:\",i)\n"
      ],
      "metadata": {
        "id": "SymBS0hOVLmw"
      },
      "execution_count": null,
      "outputs": []
    },
    {
      "cell_type": "markdown",
      "source": [
        "Resize only"
      ],
      "metadata": {
        "id": "hhtj9BjNgG8M"
      }
    },
    {
      "cell_type": "code",
      "source": [
        "from PIL import Image\n",
        "import os\n",
        "\n",
        "input_folder1 = '/content/drive/MyDrive/outputimages/'\n",
        "output_folder = '/content/drive/MyDrive/output2/'\n",
        "target_size = (1920, 2400)\n",
        "\n",
        "\n",
        "image_paths = []\n",
        "for root, dirs, files in os.walk(input_folder1):\n",
        "    for filename in files:\n",
        "        if filename.lower().endswith(('.jpg', '.png')):\n",
        "            image_path = os.path.join(root, filename)\n",
        "            image_paths.append(image_path)\n",
        "\n",
        "for image_path in image_paths:\n",
        "    image = Image.open(image_path)\n",
        "\n",
        "    new_image = image.resize(target_size, Image.ANTIALIAS)\n",
        "\n",
        "\n",
        "    relative_path = os.path.relpath(image_path, input_folder1)\n",
        "    output_path = os.path.join(output_folder, relative_path)\n",
        "\n",
        "\n",
        "    os.makedirs(os.path.dirname(output_path), exist_ok=True)\n",
        "\n",
        "    new_image.save(output_path)\n"
      ],
      "metadata": {
        "id": "qFWScNZGXrLx"
      },
      "execution_count": null,
      "outputs": []
    },
    {
      "cell_type": "markdown",
      "source": [
        "Put object of image to central of image background"
      ],
      "metadata": {
        "id": "FM0wqKMFxd4x"
      }
    },
    {
      "cell_type": "code",
      "source": [
        "from concurrent.futures import ThreadPoolExecutor\n",
        "\n",
        "def process_image(image_file):\n",
        "    image_path = os.path.join(input_folder, image_file)\n",
        "    original_image = Image.open(image_path)\n",
        "\n",
        "    object_mask = Image.new('L', original_image.size)\n",
        "\n",
        "    for x in range(original_image.width):\n",
        "        for y in range(original_image.height):\n",
        "            pixel = original_image.getpixel((x, y))\n",
        "            if pixel != white_color:\n",
        "                object_mask.putpixel((x, y), 255)\n",
        "            else:\n",
        "                object_mask.putpixel((x, y), 0)\n",
        "\n",
        "    bbox = object_mask.getbbox()\n",
        "\n",
        "    object_image = original_image.crop(bbox)\n",
        "\n",
        "    new_background = Image.new('RGB', (new_width, new_height), white_color)\n",
        "\n",
        "    x_offset = (new_width - object_image.width) // 2\n",
        "    y_offset = (new_height - object_image.height) // 2\n",
        "\n",
        "    new_background.paste(object_image, (x_offset, y_offset))\n",
        "\n",
        "    output_path = os.path.join(output_folder, image_file)\n",
        "    new_background.save(output_path)\n",
        "\n",
        "input_folder = '/content/drive/MyDrive/output2/'\n",
        "output_folder = '/content/drive/MyDrive/output2_processed/'\n",
        "\n",
        "os.makedirs(output_folder, exist_ok=True)\n",
        "\n",
        "new_width = 1920\n",
        "new_height = 2400\n",
        "white_color = (255, 255, 255)\n",
        "\n",
        "image_files = [f for f in os.listdir(input_folder) if f.lower().endswith(('.jpg', '.png'))]\n",
        "\n",
        "with ThreadPoolExecutor(max_workers=os.cpu_count()) as executor:\n",
        "    executor.map(process_image, image_files)"
      ],
      "metadata": {
        "id": "69_zjTZNxloZ"
      },
      "execution_count": null,
      "outputs": []
    }
  ]
}